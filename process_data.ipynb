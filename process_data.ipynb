{
 "cells": [
  {
   "cell_type": "markdown",
   "id": "89866234d5c2faaa",
   "metadata": {},
   "source": [
    "# Data Cleaning and prepping SCAT values\n",
    "\n",
    "### Objective"
   ]
  },
  {
   "cell_type": "markdown",
   "id": "2debed1528ba3677",
   "metadata": {},
   "source": [
    "#### Analysis\n",
    "- Analyze the spreadsheet files\n",
    "- Understand and explain what each rows and cols are?\n",
    "- Understand the values and its units\n",
    "- Consider the columns to keep and justify the columns to be disregarded."
   ]
  },
  {
   "metadata": {},
   "cell_type": "code",
   "source": [
    "import pandas as pd\n",
    "\n",
    "# CSV raw datasets\n",
    "SCATS_DATA_OCTOBER_2006_CSV_PATH = 'datasets/Scats Data October 2006.csv'\n",
    "SCATS_SITE_LISTING_SPREADSHEET_VICROADS_CSV_PATH = 'datasets/SCATSSiteListingSpreadsheet_VicRoads.csv'\n",
    "TRAFFIC_COUNT_LOCATIONS_WITH_LONG_LAT_CSV_PATH = 'datasets/Traffic_Count_Locations_with_LONG_LAT.csv'\n",
    "\n",
    "# reading the csv files\n",
    "df_scats_data_october = pd.read_csv(SCATS_DATA_OCTOBER_2006_CSV_PATH, header = 1)\n",
    "df_scats_site_listing = pd.read_csv(SCATS_SITE_LISTING_SPREADSHEET_VICROADS_CSV_PATH)\n",
    "df_traffic_long_lat = pd.read_csv(TRAFFIC_COUNT_LOCATIONS_WITH_LONG_LAT_CSV_PATH)"
   ],
   "id": "191c662dc666a48d",
   "outputs": [],
   "execution_count": null
  },
  {
   "metadata": {},
   "cell_type": "code",
   "source": [
    "# Outputting SCATS Data October 2006\n",
    "df_scats_data_october"
   ],
   "id": "bfe2f19627073795",
   "outputs": [],
   "execution_count": null
  },
  {
   "metadata": {},
   "cell_type": "markdown",
   "source": [
    "\n",
    "- Time-Based Data (e.g., V00, V01, V02, ...): These columns represent traffic counts or flow rates at specific time intervals. They are critical for understanding traffic patterns over time and predicting future traffic flow.\n",
    "- Date (Start Time): This is important for understanding the day-to-day variation in traffic. It can be useful to include the day of the week or whether the day is a weekday/weekend, as traffic patterns often differ.\n",
    "\n",
    "Location Information:\n",
    "\n",
    "- SCATS Number and Location: These provide context on where the data was recorded, allowing the model to learn location-specific traffic patterns.\n",
    "Coordinates (Latitude and Longitude): If multiple locations are involved, geographical data can help in understanding spatial traffic patterns.\n",
    "\n",
    "Internal Codes (if meaningful):\n",
    "- HF VicRoads Internal, VR Internal Stat, VR Internal Loc: If these columns represent different types of traffic flow or control information, they could provide additional context to improve predictions.\n",
    "\n",
    "In a machine learning model, you'll likely treat the time-based data as your primary features, with additional features such as date, day of the week, and location to provide context. You might also need to consider temporal relationships and how past traffic data influences future traffic predictions.\n",
    "\n"
   ],
   "id": "3703602efde03716"
  },
  {
   "metadata": {},
   "cell_type": "code",
   "source": [
    "# Outputting SCATSSiteListingSpreadsheet\n",
    "df_scats_site_listing"
   ],
   "id": "ea22c51a46ebf5bc",
   "outputs": [],
   "execution_count": null
  },
  {
   "metadata": {},
   "cell_type": "markdown",
   "source": [
    "Columns:\n",
    "- Site Number: This likely represents the unique identifier for each SCATS (Sydney Coordinated Adaptive Traffic System) site.\n",
    "- Location Description: Describes the physical location of the SCATS site, such as the intersection or road segment it monitors.\n",
    "- Site Type: Indicates the type of site, which might be \"Intersection\" (INT) or other designations.\n",
    "- Directory: Possibly refers to a reference directory or map that includes the SCATS site.\n",
    "- Map Reference: A specific reference on a map (e.g., Melway) to locate the site geographically.\n",
    "\n",
    "Rows:\n",
    "\n",
    "   Each row after the headers appears to correspond to a SCATS site with details about its location, type, and reference information.\n",
    "\n",
    "   This dataset provides geographical and descriptive information about SCATS sites, which could be useful in your traffic prediction model by linking traffic data to specific sites and their characteristics."
   ],
   "id": "9445f629c34789d9"
  },
  {
   "metadata": {},
   "cell_type": "code",
   "source": [
    "# Outputting Traffic_Count_Locations_with_LONG_LAT \n",
    "df_traffic_long_lat"
   ],
   "id": "9e0b89fca5639ed4",
   "outputs": [],
   "execution_count": null
  },
  {
   "metadata": {},
   "cell_type": "markdown",
   "source": [
    "The file \"Traffic_Count_Locations_with_LONG_LAT.csv\" contains the following columns:\n",
    "\n",
    "- X and Y: These are the geographic coordinates (longitude and latitude, respectively) of the traffic count locations.\n",
    "- FID and OBJECTID: These are identifiers that may refer to specific features or objects within a geographic or mapping system.\n",
    "- TFM_ID: This is an identifier for the traffic flow monitoring site.\n",
    "- TFM_DESC: Description of the traffic monitoring site, typically indicating the road or intersection being monitored.\n",
    "- TFM_TYP_DE: Type of the traffic flow monitoring, which seems to describe the location type (e.g., \"INTERSECTION\").\n",
    "- MOVEMENT_T: Describes the movement type being monitored (e.g., \"All Moves\" likely means all traffic directions).\n",
    "- SITE_DESC: A more detailed description of the site, often including road names or specific intersections.\n",
    "- ROAD_NBR: The road number for the monitored site.\n",
    "- DECLARED_R: The declared road name or type, often indicating the official name or designation of the road.\n",
    "- LOCAL_ROAD: Describes the local road connected to the declared road, giving further context to the location.\n",
    "- DATA_SRC_C: Source of the data, likely indicating the method of data collection.\n",
    "- DATA_SOURC: Further description of the data source, such as whether it was manually collected or obtained through a specific method.\n",
    "- TIME_CATEG: Indicates the time category, such as how old the data is (e.g., \"Greater than 10 Years\").\n",
    "- YEAR_SINCE: The number of years since the data was first collected.\n",
    "- LAST_YEAR: The last year in which the data was updated.\n",
    "- AADT_ALLVE: The Annual Average Daily Traffic (AADT) for all vehicles at the site.\n",
    "- AADT_TRUCK: The AADT specifically for trucks at the site.\n",
    "- PER_TRUCKS: The percentage of total traffic that consists of trucks.\n",
    "\n",
    "Rows:\n",
    "\n",
    "Each row in this file corresponds to a specific traffic count location. The data in each row provides detailed information about that location, including geographic coordinates, traffic flow details, and historical traffic data.\n",
    "\n",
    "This file provides important context that can be combined with time-based traffic data to enhance the accuracy of your traffic flow prediction model. For instance, the geographic coordinates and AADT values can help in understanding spatial and volume-based traffic patterns."
   ],
   "id": "4c4ac5da1108c9a1"
  },
  {
   "metadata": {},
   "cell_type": "markdown",
   "source": "#### Data Cleaning & Feature Engineering",
   "id": "4e3dc0a60b0d13ad"
  },
  {
   "metadata": {},
   "cell_type": "code",
   "source": "df_scats_data_october",
   "id": "d60cfad76786ece2",
   "outputs": [],
   "execution_count": null
  },
  {
   "metadata": {},
   "cell_type": "code",
   "source": [
    "df_scats_data_october = df_scats_data_october.dropna(how='all', axis=1)\n",
    "df_scats_data_october = df_scats_data_october.fillna(0)"
   ],
   "id": "4e8b4a8b6c7193c4",
   "outputs": [],
   "execution_count": null
  },
  {
   "metadata": {},
   "cell_type": "code",
   "source": [
    "numerical_columns = []\n",
    "for i in range(96):\n",
    "    if i < 10:\n",
    "        numerical_columns.append('V0' + str(i))\n",
    "    else :\n",
    "        numerical_columns.append('V' + str(i))\n",
    "        \n",
    "df_scats_data_october[numerical_columns] = df_scats_data_october[numerical_columns].apply(pd.to_numeric, errors='coerce')"
   ],
   "id": "adbb320cae05ccfe",
   "outputs": [],
   "execution_count": null
  },
  {
   "metadata": {},
   "cell_type": "code",
   "source": [
    "# Correctly parse the Date column with the adjusted format\n",
    "df_scats_data_october['Date'] = pd.to_datetime(df_scats_data_october['Date'], format='%d/%m/%y', dayfirst=True)\n",
    "\n",
    "# Create the new columns\n",
    "new_date_columns = pd.DataFrame({\n",
    "    'Day_Of_Week': df_scats_data_october['Date'].dt.dayofweek,\n",
    "    'Is_Weekend': df_scats_data_october['Date'].dt.dayofweek >= 5\n",
    "})\n",
    "\n",
    "# Concatenate the new columns with the original DataFrame\n",
    "df_scats_data_october = pd.concat([df_scats_data_october, new_date_columns], axis=1)"
   ],
   "id": "80dd8659de791f51",
   "outputs": [],
   "execution_count": null
  },
  {
   "metadata": {},
   "cell_type": "code",
   "source": "df_scats_data_october['Rolling_1hr'] = df_scats_data_october[numerical_columns].iloc[:, :96].mean(axis=1)",
   "id": "50df96a8ea75368f",
   "outputs": [],
   "execution_count": null
  },
  {
   "metadata": {},
   "cell_type": "code",
   "source": "df_scats_data_october.columns\n",
   "id": "267c780f4b12c115",
   "outputs": [],
   "execution_count": null
  },
  {
   "metadata": {},
   "cell_type": "code",
   "source": "df_scats_data_october",
   "id": "2ed7d96614166b1d",
   "outputs": [],
   "execution_count": null
  },
  {
   "metadata": {},
   "cell_type": "code",
   "source": "",
   "id": "f05afbeca9969f24",
   "outputs": [],
   "execution_count": null
  }
 ],
 "metadata": {
  "kernelspec": {
   "display_name": "Python 3",
   "language": "python",
   "name": "python3"
  },
  "language_info": {
   "codemirror_mode": {
    "name": "ipython",
    "version": 3
   },
   "file_extension": ".py",
   "mimetype": "text/x-python",
   "name": "python",
   "nbconvert_exporter": "python",
   "pygments_lexer": "ipython3",
   "version": "3.10.7"
  }
 },
 "nbformat": 4,
 "nbformat_minor": 5
}
