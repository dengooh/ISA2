{
 "cells": [
  {
   "metadata": {
    "ExecuteTime": {
     "end_time": "2024-09-01T11:11:41.810544Z",
     "start_time": "2024-09-01T11:11:41.643997Z"
    }
   },
   "cell_type": "code",
   "source": [
    "import pandas as pd\n",
    "pd.set_option('display.max_columns',None)\n",
    "# CSV raw datasets\n",
    "SCATS_DATA_OCTOBER_2006_CSV_PATH = 'datasets/Scats Data October 2006.csv'\n",
    "SCATS_SITE_LISTING_SPREADSHEET_VICROADS_CSV_PATH = 'datasets/SCATSSiteListingSpreadsheet_VicRoads.csv'\n",
    "TRAFFIC_COUNT_LOCATIONS_WITH_LONG_LAT_CSV_PATH = 'datasets/Traffic_Count_Locations_with_LONG_LAT.csv'\n",
    "\n",
    "# reading the csv files\n",
    "df_scats_data_october = pd.read_csv(SCATS_DATA_OCTOBER_2006_CSV_PATH,header = 1)\n",
    "df_scats_site_listing = pd.read_csv(SCATS_SITE_LISTING_SPREADSHEET_VICROADS_CSV_PATH,skiprows=8, header=1)\n",
    "df_traffic_long_lat = pd.read_csv(TRAFFIC_COUNT_LOCATIONS_WITH_LONG_LAT_CSV_PATH)"
   ],
   "id": "335ca341518fde98",
   "outputs": [],
   "execution_count": 100
  },
  {
   "metadata": {},
   "cell_type": "markdown",
   "source": [
    "# **CD_MELWAYS Values**\n",
    "\n",
    "#### SCATSSiteListingSpreadsheet (\"Map reference\" column)\n",
    "- Based on my analysis and assumptions, the SCATSSiteListingSpreadsheet contains all of Boroondarah SCATS sites (4500+ SCATS sites). This includes the Intersections (INT), Pedestrian Crossing (POS), etc, as mentioned in the Data information workbook.\n",
    "\n",
    "#### SCATS Data October 2006 (\"CD_MELWAY\" column)\n",
    "- This spreadsheet contains all the traffic flow recorded over the span of 30 days in 15 minutes intervals within 40 different SCATS sites. \n",
    "\n",
    "#### Usage\n",
    "- In the SCATS Data October 2006, there are 40 unique \"CD_MELWAY\" values, which aligns with \"Map reference\" values in the SCATSSiteListingSpreadsheet.\n",
    "- Having this information we can eliminate all the other values in SCATSSiteListingSpreadsheet that's not in SCATS Data October 2006 data set. The 'CD_MELWAYS' allow us to pinpoint the connections between each nodes. \n",
    "- The SCATS number in the SCATS Data October 2006 represents a range of SCATS sites, corresponding to the SCATS sites in SCATSSiteListingSpreadsheet."
   ],
   "id": "248ea9f7710784b9"
  },
  {
   "metadata": {
    "ExecuteTime": {
     "end_time": "2024-09-01T11:11:41.821089Z",
     "start_time": "2024-09-01T11:11:41.814093Z"
    }
   },
   "cell_type": "code",
   "source": [
    "df_scats_data_october = df_scats_data_october.rename(columns={\"CD_MELWAY\": \"CD_MELWAYS\"})\n",
    "df_scats_site_listing = df_scats_site_listing.rename(columns={\"Map reference \": \"CD_MELWAYS\"})\n",
    "\n",
    "df_scats_data_october[\"CD_MELWAYS\"] = df_scats_data_october[\"CD_MELWAYS\"].str.strip().str.replace(' ','')\n",
    "df_scats_site_listing[\"CD_MELWAYS\"] = df_scats_site_listing[\"CD_MELWAYS\"].str.strip().str.replace(' ','')"
   ],
   "id": "27f163dfeae848bb",
   "outputs": [],
   "execution_count": 101
  },
  {
   "metadata": {
    "ExecuteTime": {
     "end_time": "2024-09-01T11:11:41.829661Z",
     "start_time": "2024-09-01T11:11:41.825486Z"
    }
   },
   "cell_type": "code",
   "source": [
    "common_cd_melways = df_scats_data_october['CD_MELWAYS'].dropna().unique()\n",
    "df_scats_data_october['Location'].nunique()"
   ],
   "id": "7cdaed5b8265c6e7",
   "outputs": [
    {
     "data": {
      "text/plain": [
       "139"
      ]
     },
     "execution_count": 102,
     "metadata": {},
     "output_type": "execute_result"
    }
   ],
   "execution_count": 102
  },
  {
   "metadata": {
    "ExecuteTime": {
     "end_time": "2024-09-01T11:11:41.902294Z",
     "start_time": "2024-09-01T11:11:41.896350Z"
    }
   },
   "cell_type": "code",
   "source": [
    "filtered_site_listing_vicroads = df_scats_site_listing[df_scats_site_listing['CD_MELWAYS'].isin(common_cd_melways)]\n",
    "filtered_site_listing_vicroads"
   ],
   "id": "96bb1d1291ad3eb1",
   "outputs": [
    {
     "data": {
      "text/plain": [
       "      Site Number   Location Description Site Type Directory CD_MELWAYS\n",
       "128          4069       BALWYN NR MILLAH       POS    Melway     046D08\n",
       "129          4057         BALWYN/BELMORE       INT    Melway     046E05\n",
       "145          3001    BARKERS/CHURCH/HIGH       INT    Melway     045A08\n",
       "146          3002  BARKERS/DENMARK/POWER       INT    Melway     045B08\n",
       "460          4055      BULLEEN NR LEONIS       POS    Melway     032D11\n",
       "...           ...                    ...       ...       ...        ...\n",
       "4173         3687    WARRIGAL NR POULTER       POS    Melway     060G10\n",
       "4181          970    WARRIGAL/HIGH ST RD       INT    Melway     060G10\n",
       "4182         3685      WARRIGAL/HIGHBURY       INT    Melway     060G07\n",
       "4189         3682    WARRIGAL/RIVERSDALE       INT    Melway     060H02\n",
       "4438         4063      WHITEHORSE/BALWYN       INT    Melway     046D08\n",
       "\n",
       "[65 rows x 5 columns]"
      ],
      "text/html": [
       "<div>\n",
       "<style scoped>\n",
       "    .dataframe tbody tr th:only-of-type {\n",
       "        vertical-align: middle;\n",
       "    }\n",
       "\n",
       "    .dataframe tbody tr th {\n",
       "        vertical-align: top;\n",
       "    }\n",
       "\n",
       "    .dataframe thead th {\n",
       "        text-align: right;\n",
       "    }\n",
       "</style>\n",
       "<table border=\"1\" class=\"dataframe\">\n",
       "  <thead>\n",
       "    <tr style=\"text-align: right;\">\n",
       "      <th></th>\n",
       "      <th>Site Number</th>\n",
       "      <th>Location Description</th>\n",
       "      <th>Site Type</th>\n",
       "      <th>Directory</th>\n",
       "      <th>CD_MELWAYS</th>\n",
       "    </tr>\n",
       "  </thead>\n",
       "  <tbody>\n",
       "    <tr>\n",
       "      <th>128</th>\n",
       "      <td>4069</td>\n",
       "      <td>BALWYN NR MILLAH</td>\n",
       "      <td>POS</td>\n",
       "      <td>Melway</td>\n",
       "      <td>046D08</td>\n",
       "    </tr>\n",
       "    <tr>\n",
       "      <th>129</th>\n",
       "      <td>4057</td>\n",
       "      <td>BALWYN/BELMORE</td>\n",
       "      <td>INT</td>\n",
       "      <td>Melway</td>\n",
       "      <td>046E05</td>\n",
       "    </tr>\n",
       "    <tr>\n",
       "      <th>145</th>\n",
       "      <td>3001</td>\n",
       "      <td>BARKERS/CHURCH/HIGH</td>\n",
       "      <td>INT</td>\n",
       "      <td>Melway</td>\n",
       "      <td>045A08</td>\n",
       "    </tr>\n",
       "    <tr>\n",
       "      <th>146</th>\n",
       "      <td>3002</td>\n",
       "      <td>BARKERS/DENMARK/POWER</td>\n",
       "      <td>INT</td>\n",
       "      <td>Melway</td>\n",
       "      <td>045B08</td>\n",
       "    </tr>\n",
       "    <tr>\n",
       "      <th>460</th>\n",
       "      <td>4055</td>\n",
       "      <td>BULLEEN NR LEONIS</td>\n",
       "      <td>POS</td>\n",
       "      <td>Melway</td>\n",
       "      <td>032D11</td>\n",
       "    </tr>\n",
       "    <tr>\n",
       "      <th>...</th>\n",
       "      <td>...</td>\n",
       "      <td>...</td>\n",
       "      <td>...</td>\n",
       "      <td>...</td>\n",
       "      <td>...</td>\n",
       "    </tr>\n",
       "    <tr>\n",
       "      <th>4173</th>\n",
       "      <td>3687</td>\n",
       "      <td>WARRIGAL NR POULTER</td>\n",
       "      <td>POS</td>\n",
       "      <td>Melway</td>\n",
       "      <td>060G10</td>\n",
       "    </tr>\n",
       "    <tr>\n",
       "      <th>4181</th>\n",
       "      <td>970</td>\n",
       "      <td>WARRIGAL/HIGH ST RD</td>\n",
       "      <td>INT</td>\n",
       "      <td>Melway</td>\n",
       "      <td>060G10</td>\n",
       "    </tr>\n",
       "    <tr>\n",
       "      <th>4182</th>\n",
       "      <td>3685</td>\n",
       "      <td>WARRIGAL/HIGHBURY</td>\n",
       "      <td>INT</td>\n",
       "      <td>Melway</td>\n",
       "      <td>060G07</td>\n",
       "    </tr>\n",
       "    <tr>\n",
       "      <th>4189</th>\n",
       "      <td>3682</td>\n",
       "      <td>WARRIGAL/RIVERSDALE</td>\n",
       "      <td>INT</td>\n",
       "      <td>Melway</td>\n",
       "      <td>060H02</td>\n",
       "    </tr>\n",
       "    <tr>\n",
       "      <th>4438</th>\n",
       "      <td>4063</td>\n",
       "      <td>WHITEHORSE/BALWYN</td>\n",
       "      <td>INT</td>\n",
       "      <td>Melway</td>\n",
       "      <td>046D08</td>\n",
       "    </tr>\n",
       "  </tbody>\n",
       "</table>\n",
       "<p>65 rows × 5 columns</p>\n",
       "</div>"
      ]
     },
     "execution_count": 103,
     "metadata": {},
     "output_type": "execute_result"
    }
   ],
   "execution_count": 103
  }
 ],
 "metadata": {
  "kernelspec": {
   "display_name": "Python 3",
   "language": "python",
   "name": "python3"
  },
  "language_info": {
   "codemirror_mode": {
    "name": "ipython",
    "version": 2
   },
   "file_extension": ".py",
   "mimetype": "text/x-python",
   "name": "python",
   "nbconvert_exporter": "python",
   "pygments_lexer": "ipython2",
   "version": "2.7.6"
  }
 },
 "nbformat": 4,
 "nbformat_minor": 5
}
