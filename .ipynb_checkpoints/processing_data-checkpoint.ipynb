{
 "cells": [
  {
   "metadata": {
    "ExecuteTime": {
     "end_time": "2024-09-01T06:26:30.849392Z",
     "start_time": "2024-09-01T06:26:30.672695Z"
    }
   },
   "cell_type": "code",
   "source": [
    "import pandas as pd\n",
    "pd.set_option('display.max_columns',None)\n",
    "# CSV raw datasets\n",
    "SCATS_DATA_OCTOBER_2006_CSV_PATH = 'datasets/Scats Data October 2006.csv'\n",
    "SCATS_SITE_LISTING_SPREADSHEET_VICROADS_CSV_PATH = 'datasets/SCATSSiteListingSpreadsheet_VicRoads.csv'\n",
    "TRAFFIC_COUNT_LOCATIONS_WITH_LONG_LAT_CSV_PATH = 'datasets/Traffic_Count_Locations_with_LONG_LAT.csv'\n",
    "\n",
    "# reading the csv files\n",
    "df_scats_data_october = pd.read_csv(SCATS_DATA_OCTOBER_2006_CSV_PATH,header = 1)\n",
    "df_scats_site_listing = pd.read_csv(SCATS_SITE_LISTING_SPREADSHEET_VICROADS_CSV_PATH,skiprows=8, header=1)\n",
    "df_traffic_long_lat = pd.read_csv(TRAFFIC_COUNT_LOCATIONS_WITH_LONG_LAT_CSV_PATH)"
   ],
   "id": "335ca341518fde98",
   "outputs": [],
   "execution_count": 64
  },
  {
   "metadata": {
    "ExecuteTime": {
     "end_time": "2024-09-01T06:40:01.501175Z",
     "start_time": "2024-09-01T06:40:01.489167Z"
    }
   },
   "cell_type": "code",
   "source": [
    "df_scats_data_october = df_scats_data_october.rename(columns={\"CD_MELWAY\": \"CD_MELWAYS\"})\n",
    "df_scats_site_listing = df_scats_site_listing.rename(columns={\"Map reference \": \"CD_MELWAYS\"})\n",
    "\n",
    "df_scats_data_october[\"CD_MELWAYS\"] = df_scats_data_october[\"CD_MELWAYS\"].str.strip().str.replace(' ','')\n",
    "df_scats_site_listing[\"CD_MELWAYS\"] = df_scats_site_listing[\"CD_MELWAYS\"].str.strip().str.replace(' ','')"
   ],
   "id": "27f163dfeae848bb",
   "outputs": [],
   "execution_count": 78
  },
  {
   "metadata": {
    "ExecuteTime": {
     "end_time": "2024-09-01T06:49:06.668474Z",
     "start_time": "2024-09-01T06:49:06.661733Z"
    }
   },
   "cell_type": "code",
   "source": [
    "common_cd_melways = df_scats_data_october['CD_MELWAYS'].dropna().unique()\n",
    "df_scats_data_october['Location'].nunique()"
   ],
   "id": "7cdaed5b8265c6e7",
   "outputs": [
    {
     "data": {
      "text/plain": [
       "139"
      ]
     },
     "execution_count": 88,
     "metadata": {},
     "output_type": "execute_result"
    }
   ],
   "execution_count": 88
  },
  {
   "metadata": {
    "ExecuteTime": {
     "end_time": "2024-09-01T06:49:11.189639Z",
     "start_time": "2024-09-01T06:49:11.186268Z"
    }
   },
   "cell_type": "code",
   "source": [
    "filtered_site_listing_vicroads = df_scats_site_listing[df_scats_site_listing['CD_MELWAYS'].isin(common_cd_melways)]\n",
    "filtered_site_listing_vicroads['Location Description'].nunique()"
   ],
   "id": "96bb1d1291ad3eb1",
   "outputs": [
    {
     "data": {
      "text/plain": [
       "64"
      ]
     },
     "execution_count": 89,
     "metadata": {},
     "output_type": "execute_result"
    }
   ],
   "execution_count": 89
  },
  {
   "metadata": {
    "ExecuteTime": {
     "end_time": "2024-09-01T06:26:31.022579Z",
     "start_time": "2024-09-01T06:26:31.020223Z"
    }
   },
   "cell_type": "code",
   "source": "",
   "id": "1060e971b30e6f9a",
   "outputs": [],
   "execution_count": null
  }
 ],
 "metadata": {
  "kernelspec": {
   "display_name": "Python 3",
   "language": "python",
   "name": "python3"
  },
  "language_info": {
   "codemirror_mode": {
    "name": "ipython",
    "version": 2
   },
   "file_extension": ".py",
   "mimetype": "text/x-python",
   "name": "python",
   "nbconvert_exporter": "python",
   "pygments_lexer": "ipython2",
   "version": "2.7.6"
  }
 },
 "nbformat": 4,
 "nbformat_minor": 5
}
